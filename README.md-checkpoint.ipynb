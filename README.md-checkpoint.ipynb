{
 "cells": [
  {
   "cell_type": "markdown",
   "metadata": {},
   "source": [
    "<span style=\"color:blue\">\n",
    "    \n",
    "# WELCOME ASSIGNMENT\n",
    "\n",
    "## Instruction to run Assignment 1 code for Saloni Mishra!\n",
    "\n",
    "### Introduction\n",
    "\n",
    "This document provides the steps involved in assignment 1 named as welcome assignment. The objective of the assignment was to learn to upload projects and files on Github and to provide my full name in pythonic way using **Jupyter Notebook**. I used Jupyter Notebook version 3.6.0. to compile my python code for this assignment. \n",
    "\n",
    "###Steps\n",
    "    \n",
    "* <u>**Instruction.md**</u>:   The instruction.md is created. The file instruction.md is renamed version of readme.md attached in the assignment.\n",
    "    \n",
    "    \n",
    "* <u>**Creating Class**</u>:  In this step, a class is created named as \"Name\" which contains two instance attributes namely lastname and firstname and an instance method.\n",
    "    \n",
    "    \n",
    "* <u>**Creating Method**</u>:  A method named as assign is created for two instance attributes attached with text \"Hi, my name is\" along with formatting.\n",
    "    \n",
    "    \n",
    "* <u>**Instantiating the name object**</u>: An instance of object name is created with my first name as Saloni and lastname as Mishra and then I called my instance method assignment which gave the desired result i.e., \"Hi, my name is Saloni Mishra\".\n",
    "    \n",
    "\n",
    "* <u>**Created readme.md**</u>: All the steps are provided using Markdown language in jupyter notebook interface. \n",
    "\n",
    "</span>"
   ]
  }
 ],
 "metadata": {
  "kernelspec": {
   "display_name": "Python 3",
   "language": "python",
   "name": "python3"
  },
  "language_info": {
   "codemirror_mode": {
    "name": "ipython",
    "version": 3
   },
   "file_extension": ".py",
   "mimetype": "text/x-python",
   "name": "python",
   "nbconvert_exporter": "python",
   "pygments_lexer": "ipython3",
   "version": "3.8.0"
  }
 },
 "nbformat": 4,
 "nbformat_minor": 2
}
